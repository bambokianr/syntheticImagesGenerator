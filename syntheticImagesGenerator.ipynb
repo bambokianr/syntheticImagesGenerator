{
  "cells": [
    {
      "cell_type": "markdown",
      "metadata": {
        "id": "view-in-github",
        "colab_type": "text"
      },
      "source": [
        "<a href=\"https://colab.research.google.com/github/bambokianr/syntheticImagesGenerator/blob/main/syntheticImagesGenerator.ipynb\" target=\"_parent\"><img src=\"https://colab.research.google.com/assets/colab-badge.svg\" alt=\"Open In Colab\"/></a>"
      ]
    },
    {
      "cell_type": "code",
      "execution_count": null,
      "metadata": {
        "id": "GWKgzF3cqdy4"
      },
      "outputs": [],
      "source": [
        "import numpy\n",
        "from matplotlib import pyplot\n",
        "from scipy import interpolate\n",
        "from io import BytesIO\n",
        "from PIL import Image\n",
        "import random\n",
        "import re"
      ]
    },
    {
      "cell_type": "markdown",
      "metadata": {
        "id": "dG1eLlLqtdEV"
      },
      "source": [
        "#### **Images dimensions (in _pixels_)**"
      ]
    },
    {
      "cell_type": "code",
      "execution_count": null,
      "metadata": {
        "id": "u9tDrJTYs8rH"
      },
      "outputs": [],
      "source": [
        "def generateRandomDataBasedOnUniformDistribution(min_val, max_val, sample_size, seed):\n",
        "  numpy.random.seed(seed)\n",
        "  dist = numpy.random.uniform(min_val, max_val, sample_size).astype(int)\n",
        "  return dist\n",
        "\n",
        "def generateRandomDataBasedOnNormalDistribution(mean, standard_deviation, sample_size, seed):\n",
        "  numpy.random.seed(seed)\n",
        "  dist = numpy.random.normal(mean, standard_deviation, sample_size).astype(int)\n",
        "  return dist"
      ]
    },
    {
      "cell_type": "code",
      "source": [
        "def plotImagensDimensionsDistribution(W_dist, H_dist, figure_suptitle = \"\", W_title = \"\", H_title = \"\"):\n",
        "  figure, axes = pyplot.subplots(nrows = 1, ncols = 2, figsize = (15, 5))\n",
        "  figure.suptitle(figure_suptitle, fontsize = 14, fontweight = \"bold\")\n",
        "\n",
        "  axes[0].set_title(W_title)\n",
        "  axes[0].set_xlabel(\"largura (px)\")\n",
        "  axes[0].set_ylabel(\"count\")\n",
        "  W_count, W_bins, W_ignored = axes[0].hist(W_dist)\n",
        "\n",
        "  axes[1].set_title(H_title)\n",
        "  axes[1].set_xlabel(\"altura (px)\")\n",
        "  axes[1].set_ylabel(\"count\")\n",
        "  H_count, H_bins, H_ignored = axes[1].hist(H_dist)"
      ],
      "metadata": {
        "id": "y_W2NkK0MPzl"
      },
      "execution_count": null,
      "outputs": []
    },
    {
      "cell_type": "markdown",
      "metadata": {
        "id": "HtWJnrtPuxVk"
      },
      "source": [
        "#### **Images sizes (in _bytes_)**"
      ]
    },
    {
      "cell_type": "code",
      "execution_count": null,
      "metadata": {
        "id": "rjN3KRCUuyO9"
      },
      "outputs": [],
      "source": [
        "def generateRandomDataBasedOnBoxPlot(q0, q1, q2, q3, q4, sample_size, seed):\n",
        "  numpy.random.seed(seed)\n",
        "  interp = interpolate.interp1d([0, 0.25, 0.5, 0.75, 100], [q0, q1, q2, q3, q4])\n",
        "  values = interp(numpy.random.random(sample_size))\n",
        "\n",
        "  return values.astype(int).tolist()"
      ]
    },
    {
      "cell_type": "code",
      "source": [
        "def plotImagesSizesDistribution(image_size_in_bytes_list_arr, positions_arr, title = \"\"):\n",
        "  pyplot.boxplot(image_size_in_bytes_list_arr, positions=positions_arr)\n",
        "  pyplot.title(title, fontsize = 14, fontweight = \"bold\")\n",
        "  pyplot.xlabel(\"índice de execução\")\n",
        "  pyplot.ylabel(\"tamanho (em bytes)\")\n",
        "  pyplot.show()"
      ],
      "metadata": {
        "id": "y049MgcpTNcO"
      },
      "execution_count": null,
      "outputs": []
    },
    {
      "cell_type": "markdown",
      "metadata": {
        "id": "pViu7YyFyPrq"
      },
      "source": [
        "#### **Synthetic images generator**"
      ]
    },
    {
      "cell_type": "code",
      "execution_count": null,
      "metadata": {
        "id": "BHbnNOHTyQd5"
      },
      "outputs": [],
      "source": [
        "def getImageSizeInBytes(image_ref, format = \"jpeg\"):\n",
        "  temp = BytesIO()\n",
        "  image_ref.save(temp, format)\n",
        "\n",
        "  size_in_bytes = temp.tell()\n",
        "  return size_in_bytes\n",
        "\n",
        "def getRandomRGBColor():\n",
        "  return list(numpy.random.choice(range(255), size = 3))\n",
        "\n",
        "def parseSizeErrorMargin(size_error_margin_str):\n",
        "  size_error_margin_dict = { \"type\": \"BYTES\", \"value\": 0 }\n",
        "\n",
        "  has_percent_symbol = re.findall(\"\\d+\\%\", size_error_margin_str)\n",
        "  if has_percent_symbol:\n",
        "    size_error_margin_dict[\"type\"] = \"PERCENTUAL\"\n",
        "    size_error_margin_dict[\"value\"] = int(re.findall(\"\\d+\", has_percent_symbol[0])[0])/100\n",
        "\n",
        "  else:\n",
        "    is_floating_point = re.findall(\"\\d+\\.\\d+\", size_error_margin_str)\n",
        "    if is_floating_point:\n",
        "      size_error_margin_dict[\"type\"] = \"PERCENTUAL\"\n",
        "      size_error_margin_dict[\"value\"] = float(is_floating_point[0])\n",
        "    else:\n",
        "      is_in_bytes = re.findall(\"\\d+\\s?bytes\", size_error_margin_str)\n",
        "      if is_in_bytes:\n",
        "        size_error_margin_dict[\"type\"] = \"BYTES\"\n",
        "        size_error_margin_dict[\"value\"] = int(re.findall(\"\\d+\", size_error_margin_str)[0])\n",
        "\n",
        "  return size_error_margin_dict\n",
        "\n",
        "\n",
        "def createImage(dimensions_in_pixels_tuple, expected_size_in_bytes, size_error_margin_str):\n",
        "  class Error(Exception): pass\n",
        "  class Found(Exception): pass\n",
        "  class NotFound(Exception): pass\n",
        "\n",
        "  blackColor = [0, 0, 0]\n",
        "\n",
        "  width, height = dimensions_in_pixels_tuple[0], dimensions_in_pixels_tuple[1]\n",
        "  channel = 3\n",
        "\n",
        "  RGB_pixel_array = numpy.full((height, width, channel), blackColor, dtype=('uint8'))\n",
        "  image_ref = Image.fromarray(RGB_pixel_array, mode = \"RGB\")\n",
        "\n",
        "  size_error_margin_dict = parseSizeErrorMargin(size_error_margin_str)\n",
        "  if size_error_margin_dict[\"type\"] == \"PERCENTUAL\":\n",
        "    size_error_margin = expected_size_in_bytes * size_error_margin_dict[\"value\"]\n",
        "  else:\n",
        "    size_error_margin = size_error_margin_dict[\"value\"]\n",
        "\n",
        "  try:\n",
        "    for w in range(width):\n",
        "      for h in range(height):\n",
        "        image_size_in_bytes = getImageSizeInBytes(image_ref)\n",
        "        if expected_size_in_bytes < image_size_in_bytes:\n",
        "          raise Error\n",
        "        elif abs(expected_size_in_bytes - image_size_in_bytes) <= size_error_margin:\n",
        "          raise Found\n",
        "        elif image_size_in_bytes > expected_size_in_bytes + size_error_margin:\n",
        "          raise NotFound\n",
        "\n",
        "        RGB_pixel_array[h][w] = getRandomRGBColor()\n",
        "        image_ref = Image.fromarray(RGB_pixel_array, mode = \"RGB\")\n",
        "\n",
        "  except Found:\n",
        "    print(f\"[CREATED] image created with {image_size_in_bytes} bytes\")\n",
        "    return image_ref, image_size_in_bytes\n",
        "\n",
        "  except NotFound:\n",
        "    print(f\"[NOT CREATED] size_error_margin is {size_error_margin} bytes but it should be {abs(expected_size_in_bytes - image_size_in_bytes)} bytes\")\n",
        "\n",
        "  except Error:\n",
        "    print(f\"[NOT CREATED] expected_size_in_bytes is less than {image_size_in_bytes} bytes\")"
      ]
    },
    {
      "cell_type": "code",
      "execution_count": null,
      "metadata": {
        "id": "XDqshdoBzfYR"
      },
      "outputs": [],
      "source": [
        "def syntheticImagesGenerator(width_in_pixels_list, height_in_pixels_list, expected_size_in_bytes_list, sample_size, size_error_margin_str = \"5bytes\"):\n",
        "  dimensions_tuples_list = list(zip(sorted(width_in_pixels_list.tolist()), sorted(height_in_pixels_list.tolist())))\n",
        "  expected_size_in_bytes_list = sorted(expected_size_in_bytes_list)\n",
        "\n",
        "  image_size_in_bytes_list = []\n",
        "  for image_idx, dimensions_tuple in enumerate(dimensions_tuples_list):\n",
        "    print(f\"[image idx = {image_idx}] width = {dimensions_tuple[0]} px | height = {dimensions_tuple[1]} px | expected size = {expected_size_in_bytes_list[image_idx]} bytes\")\n",
        "\n",
        "    try:\n",
        "        image, image_size_in_bytes = createImage(dimensions_tuple, expected_size_in_bytes_list[image_idx], size_error_margin_str)\n",
        "        # image.show()\n",
        "        image_size_in_bytes_list.append(image_size_in_bytes)\n",
        "    except TypeError:\n",
        "        print(\"Cannot unpack non-iterable NoneType object\")\n",
        "\n",
        "  return [width_in_pixels_list, height_in_pixels_list, image_size_in_bytes_list]"
      ]
    }
  ],
  "metadata": {
    "colab": {
      "provenance": [],
      "authorship_tag": "ABX9TyO/gqiwqsnhsFiaYNsEs3O7",
      "include_colab_link": true
    },
    "kernelspec": {
      "display_name": "Python 3",
      "name": "python3"
    },
    "language_info": {
      "name": "python"
    }
  },
  "nbformat": 4,
  "nbformat_minor": 0
}